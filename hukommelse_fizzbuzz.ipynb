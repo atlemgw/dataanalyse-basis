{
 "cells": [
  {
   "cell_type": "code",
   "execution_count": 1,
   "id": "bd338315",
   "metadata": {},
   "outputs": [
    {
     "data": {
      "text/plain": [
       "'/Users/aw/Opgaver/programmering/python/SDU Python/lister_funktioner'"
      ]
     },
     "execution_count": 1,
     "metadata": {},
     "output_type": "execute_result"
    }
   ],
   "source": [
    "pwd"
   ]
  },
  {
   "cell_type": "code",
   "execution_count": 5,
   "id": "e59d0704",
   "metadata": {},
   "outputs": [
    {
     "data": {
      "text/plain": [
       "4"
      ]
     },
     "execution_count": 5,
     "metadata": {},
     "output_type": "execute_result"
    }
   ],
   "source": [
    "2 + 2"
   ]
  },
  {
   "cell_type": "code",
   "execution_count": 7,
   "id": "06f8242d",
   "metadata": {},
   "outputs": [],
   "source": [
    "a = [1,2,3,4,5,6,7,8,9,0] # squarebrackets = liste\n",
    "b = (1,2,3,4,5,6,7,8,9,0) # parenteser = tupler"
   ]
  },
  {
   "cell_type": "code",
   "execution_count": 8,
   "id": "23b92130",
   "metadata": {},
   "outputs": [],
   "source": [
    "import sys\n",
    "\n",
    "def hukommelse(data):\n",
    "    print(f\"Din data er typen {type(data)} og fylder: {sys.getsizeof(data)} bytes\")"
   ]
  },
  {
   "cell_type": "code",
   "execution_count": 10,
   "id": "9b3fc1c4",
   "metadata": {},
   "outputs": [
    {
     "name": "stdout",
     "output_type": "stream",
     "text": [
      "Din data er typen <class 'list'> og fylder: 152 bytes\n"
     ]
    }
   ],
   "source": [
    "hukommelse(a)"
   ]
  },
  {
   "cell_type": "code",
   "execution_count": 12,
   "id": "d3e21f31",
   "metadata": {},
   "outputs": [
    {
     "name": "stdout",
     "output_type": "stream",
     "text": [
      "Din data er typen <class 'tuple'> og fylder: 120 bytes\n"
     ]
    }
   ],
   "source": [
    "hukommelse(b)"
   ]
  },
  {
   "cell_type": "code",
   "execution_count": 14,
   "id": "46e53d0a",
   "metadata": {},
   "outputs": [
    {
     "name": "stdout",
     "output_type": "stream",
     "text": [
      "Din data er typen <class 'int'> og fylder: 28 bytes\n"
     ]
    }
   ],
   "source": [
    "hukommelse(2)"
   ]
  },
  {
   "cell_type": "code",
   "execution_count": 15,
   "id": "c578247a",
   "metadata": {},
   "outputs": [
    {
     "name": "stdout",
     "output_type": "stream",
     "text": [
      "Din data er typen <class 'int'> og fylder: 24 bytes\n"
     ]
    }
   ],
   "source": [
    "hukommelse(0)"
   ]
  },
  {
   "cell_type": "code",
   "execution_count": null,
   "id": "487ffc96",
   "metadata": {},
   "outputs": [],
   "source": []
  },
  {
   "cell_type": "code",
   "execution_count": 20,
   "id": "0b40a6c6",
   "metadata": {},
   "outputs": [
    {
     "name": "stdout",
     "output_type": "stream",
     "text": [
      "1\n",
      "2\n",
      "Fizz\n",
      "4\n",
      "Buzz\n",
      "Fizz\n",
      "7\n",
      "8\n",
      "Fizz\n",
      "Buzz\n",
      "11\n",
      "Fizz\n",
      "13\n",
      "14\n",
      "FizzBuzz\n",
      "16\n",
      "17\n",
      "Fizz\n",
      "19\n",
      "Buzz\n",
      "Fizz\n",
      "22\n",
      "23\n",
      "Fizz\n",
      "Buzz\n",
      "26\n",
      "Fizz\n",
      "28\n",
      "29\n",
      "FizzBuzz\n",
      "31\n",
      "32\n",
      "Fizz\n",
      "34\n",
      "Buzz\n",
      "Fizz\n",
      "37\n",
      "38\n",
      "Fizz\n",
      "Buzz\n",
      "41\n",
      "Fizz\n",
      "43\n",
      "44\n",
      "FizzBuzz\n",
      "46\n",
      "47\n",
      "Fizz\n",
      "49\n",
      "Buzz\n",
      "Fizz\n",
      "52\n",
      "53\n",
      "Fizz\n",
      "Buzz\n",
      "56\n",
      "Fizz\n",
      "58\n",
      "59\n",
      "FizzBuzz\n",
      "61\n",
      "62\n",
      "Fizz\n",
      "64\n",
      "Buzz\n",
      "Fizz\n",
      "67\n",
      "68\n",
      "Fizz\n",
      "Buzz\n",
      "71\n",
      "Fizz\n",
      "73\n",
      "74\n",
      "FizzBuzz\n",
      "76\n",
      "77\n",
      "Fizz\n",
      "79\n",
      "Buzz\n",
      "Fizz\n",
      "82\n",
      "83\n",
      "Fizz\n",
      "Buzz\n",
      "86\n",
      "Fizz\n",
      "88\n",
      "89\n",
      "FizzBuzz\n",
      "91\n",
      "92\n",
      "Fizz\n",
      "94\n",
      "Buzz\n",
      "Fizz\n",
      "97\n",
      "98\n",
      "Fizz\n"
     ]
    }
   ],
   "source": [
    "def fizzbuzz(z):\n",
    "    for i in range(1, z):\n",
    "        if i % 3 == 0 and i % 5 == 0:\n",
    "            print(\"FizzBuzz\")\n",
    "    \n",
    "        elif i % 3 == 0:\n",
    "            print(\"Fizz\")\n",
    "        \n",
    "        elif i % 5 == 0:\n",
    "            print(\"Buzz\")\n",
    "        \n",
    "        else:\n",
    "            print(i)\n",
    "        \n",
    "fizzbuzz(100)"
   ]
  }
 ],
 "metadata": {
  "kernelspec": {
   "display_name": "Python 3",
   "language": "python",
   "name": "python3"
  },
  "language_info": {
   "codemirror_mode": {
    "name": "ipython",
    "version": 3
   },
   "file_extension": ".py",
   "mimetype": "text/x-python",
   "name": "python",
   "nbconvert_exporter": "python",
   "pygments_lexer": "ipython3",
   "version": "3.9.2"
  }
 },
 "nbformat": 4,
 "nbformat_minor": 5
}
