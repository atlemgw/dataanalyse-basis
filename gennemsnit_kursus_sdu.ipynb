{
 "cells": [
  {
   "cell_type": "code",
   "execution_count": 20,
   "id": "53d11853",
   "metadata": {},
   "outputs": [
    {
     "name": "stdout",
     "output_type": "stream",
     "text": [
      "76\n"
     ]
    }
   ],
   "source": [
    "anders = [7, 7, 10]\n",
    "sum(anders)\n",
    "\n",
    "bente = [2, 4, 12]\n",
    "sum(bente)\n",
    "\n",
    "charlotte = [12, 12, 10]\n",
    "sum(charlotte)\n",
    "\n",
    "samlet_sum = sum(anders + bente + charlotte)\n",
    "print(samlet_sum)"
   ]
  },
  {
   "cell_type": "code",
   "execution_count": 27,
   "id": "98848db2",
   "metadata": {},
   "outputs": [],
   "source": [
    "gnmsnit = (samlet_sum / 9)"
   ]
  },
  {
   "cell_type": "code",
   "execution_count": 10,
   "id": "bc4c4ed3",
   "metadata": {},
   "outputs": [],
   "source": []
  },
  {
   "cell_type": "code",
   "execution_count": 29,
   "id": "a5b27adc",
   "metadata": {},
   "outputs": [
    {
     "name": "stdout",
     "output_type": "stream",
     "text": [
      "8.444444444444445\n"
     ]
    }
   ],
   "source": [
    "print(gnmsnit)"
   ]
  },
  {
   "cell_type": "code",
   "execution_count": 33,
   "id": "dd379443",
   "metadata": {},
   "outputs": [
    {
     "name": "stdout",
     "output_type": "stream",
     "text": [
      "Gennemsnit: 8.444\n"
     ]
    }
   ],
   "source": [
    "print(f\"Gennemsnit: {gnmsnit:.3f}\")"
   ]
  },
  {
   "cell_type": "code",
   "execution_count": 47,
   "id": "ff94bf42",
   "metadata": {},
   "outputs": [
    {
     "name": "stdout",
     "output_type": "stream",
     "text": [
      "Anders:      8.0\n",
      "Bente:       6.0\n",
      "Charlotte:  11.3\n"
     ]
    }
   ],
   "source": [
    "gnmsnit_anders = sum(anders) / 3.0\n",
    "print(\"Anders:\", f\"{gnmsnit_anders}\".rjust(8))\n",
    "\n",
    "gnmsnit_bente = sum(bente) / 3.0\n",
    "print(\"Bente:\", f\"{gnmsnit_bente}\".rjust(9))\n",
    "\n",
    "gnmsnit_charlotte = sum(charlotte) / 3.0\n",
    "print(\"Charlotte:\", f\"{gnmsnit_charlotte:.1f}\".rjust(5))"
   ]
  },
  {
   "cell_type": "code",
   "execution_count": null,
   "id": "1770ed49",
   "metadata": {},
   "outputs": [],
   "source": []
  }
 ],
 "metadata": {
  "kernelspec": {
   "display_name": "Python 3",
   "language": "python",
   "name": "python3"
  },
  "language_info": {
   "codemirror_mode": {
    "name": "ipython",
    "version": 3
   },
   "file_extension": ".py",
   "mimetype": "text/x-python",
   "name": "python",
   "nbconvert_exporter": "python",
   "pygments_lexer": "ipython3",
   "version": "3.9.2"
  }
 },
 "nbformat": 4,
 "nbformat_minor": 5
}
